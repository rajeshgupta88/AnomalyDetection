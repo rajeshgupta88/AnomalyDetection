{
 "cells": [
  {
   "cell_type": "code",
   "execution_count": 1,
   "metadata": {},
   "outputs": [],
   "source": [
    "import pandas as pd\n",
    "import numpy as np"
   ]
  },
  {
   "cell_type": "code",
   "execution_count": 2,
   "metadata": {},
   "outputs": [
    {
     "name": "stdout",
     "output_type": "stream",
     "text": [
      "Enter the number of files for training? 3\n"
     ]
    }
   ],
   "source": [
    "num_train_files = int(input(\"Enter the number of files for training? \"))"
   ]
  },
  {
   "cell_type": "markdown",
   "metadata": {},
   "source": [
    "## Data Preparation\n",
    "\n",
    "- Load the file and Add the headers\n",
    "- Converting the type of timestamp from object to timestamp64\n",
    "- Extracting the hour from timestamp\n",
    "- Based on statistical analysis, Dividing the per day data into 2 halves - Day (3am to 2pm) and Night(2pm to 3am)"
   ]
  },
  {
   "cell_type": "code",
   "execution_count": 3,
   "metadata": {},
   "outputs": [],
   "source": [
    "def data_prep(filename):\n",
    "    \n",
    "    # Load the file\n",
    "    data= pd.read_csv(filename, header=None)\n",
    "    \n",
    "    # Adding the header\n",
    "    data.columns = [\"TimeStamp\", \"Values\"]\n",
    "    \n",
    "    return data"
   ]
  },
  {
   "cell_type": "code",
   "execution_count": 4,
   "metadata": {},
   "outputs": [],
   "source": [
    "def timeperiod(data):\n",
    "    # Convering object into Timestamp\n",
    "    data['TimeStamp']=pd.to_datetime(data['TimeStamp'], format='%Y-%m-%d %H:%M:%S')\n",
    "    \n",
    "    # Extracting the hour from timestamp\n",
    "    data['Hour']=data['TimeStamp'].dt.hour\n",
    "    \n",
    "    ### Based on Statistical Distribution ####\n",
    "    # Timestamp between 3am and 2pm is Day \n",
    "    # Timestamp between 2pm and 3am is Night\n",
    "    # Day is 0 and Night is 1\n",
    "\n",
    "    data.loc[(data['Hour'] >=14), 'Hour'] = 1\n",
    "    data.loc[(data['Hour'] <3), 'Hour'] = 1\n",
    "    data.loc[(data['Hour'] >1), 'Hour'] = 0\n",
    "    \n",
    "    return data"
   ]
  },
  {
   "cell_type": "markdown",
   "metadata": {},
   "source": [
    "## Training\n",
    "\n",
    "- Concatenating the July 13, 14 and 16 data\n",
    "- Find the Interquartile range (IQR)\n",
    "- Define outliers based on \n",
    "    - Values less than (25th percentile - 2.5* IQR)\n",
    "    - Values greater than (75th percentile + 2.5*IQR)\n",
    "- Choosen 2.5 times instead of standard 1.5 times to be more conservative and avoid False positives"
   ]
  },
  {
   "cell_type": "code",
   "execution_count": 5,
   "metadata": {},
   "outputs": [
    {
     "name": "stdout",
     "output_type": "stream",
     "text": [
      "Enter the name of 1 training file? June13_data.csv\n",
      "Enter the name of 2 training file? June14_data.csv\n",
      "Enter the name of 3 training file? June16_data.csv\n"
     ]
    }
   ],
   "source": [
    "trainingData_list =[]\n",
    "for i in range(num_train_files):\n",
    "    \n",
    "    filename = input(\"Enter the name of {} training file? \".format(i+1))\n",
    "    \n",
    "    data= data_prep(filename)\n",
    "    data = timeperiod(data)\n",
    "    \n",
    "    trainingData_list.append(data)"
   ]
  },
  {
   "cell_type": "code",
   "execution_count": 6,
   "metadata": {},
   "outputs": [],
   "source": [
    "# Concatenating the data for training\n",
    "#train_data= pd.concat([data_13, data_14, data_16])\n",
    "train_data= pd.concat(trainingData_list)"
   ]
  },
  {
   "cell_type": "code",
   "execution_count": 7,
   "metadata": {},
   "outputs": [],
   "source": [
    "def min_max(data, timeperiod):\n",
    "    q75, q25 = np.percentile(data[data['Hour']==timeperiod].Values.dropna(), [75 ,25])\n",
    "    iqr = q75 - q25\n",
    "\n",
    "    # Used 2.5 times instead of 1.5 to be more conservative. Also, we had assumed no outliers in training data.\n",
    "    min = q25 - (iqr*2.5)\n",
    "    max = q75 + (iqr*2.5)\n",
    "    \n",
    "    return (min, max)"
   ]
  },
  {
   "cell_type": "code",
   "execution_count": 8,
   "metadata": {},
   "outputs": [],
   "source": [
    "min_day, max_day = min_max(train_data,0)\n",
    "min_night, max_night = min_max(train_data,1)"
   ]
  },
  {
   "cell_type": "markdown",
   "metadata": {},
   "source": [
    "## Validating\n",
    "\n",
    "- Using outliers threshold for both day and night, validate the July 17 data\n",
    "- Write the anamolous points timestamp and values in a csv file"
   ]
  },
  {
   "cell_type": "code",
   "execution_count": 9,
   "metadata": {},
   "outputs": [],
   "source": [
    "def inference(data, min_day, max_day, min_night, max_night):\n",
    "    \n",
    "    day=data[data['Hour']==0]\n",
    "    night=data[data['Hour']==1]\n",
    "    \n",
    "    df1= day[day['Values']<min_day]\n",
    "    df2= day[day['Values']>max_day]\n",
    "    \n",
    "    df3= night[night['Values']<min_night]\n",
    "    df4= night[night['Values']>max_night]\n",
    "    \n",
    "    result = pd.concat([df1,df2,df3,df4])\n",
    "    \n",
    "    return result[['TimeStamp','Values']]\n",
    "    "
   ]
  },
  {
   "cell_type": "code",
   "execution_count": 10,
   "metadata": {},
   "outputs": [
    {
     "name": "stdout",
     "output_type": "stream",
     "text": [
      "Enter the name of validation file?June17_data.csv\n"
     ]
    }
   ],
   "source": [
    "val_filename = input(\"Enter the name of validation file?\")\n",
    "val_data= data_prep(val_filename)\n",
    "val_data = timeperiod(val_data)"
   ]
  },
  {
   "cell_type": "code",
   "execution_count": 11,
   "metadata": {},
   "outputs": [],
   "source": [
    "anomaly = inference(val_data,min_day, max_day, min_night, max_night)"
   ]
  },
  {
   "cell_type": "code",
   "execution_count": 12,
   "metadata": {},
   "outputs": [],
   "source": [
    "anomaly.to_csv(\"AnomalousData.csv\")"
   ]
  },
  {
   "cell_type": "code",
   "execution_count": 13,
   "metadata": {},
   "outputs": [
    {
     "data": {
      "text/html": [
       "<div>\n",
       "<style scoped>\n",
       "    .dataframe tbody tr th:only-of-type {\n",
       "        vertical-align: middle;\n",
       "    }\n",
       "\n",
       "    .dataframe tbody tr th {\n",
       "        vertical-align: top;\n",
       "    }\n",
       "\n",
       "    .dataframe thead th {\n",
       "        text-align: right;\n",
       "    }\n",
       "</style>\n",
       "<table border=\"1\" class=\"dataframe\">\n",
       "  <thead>\n",
       "    <tr style=\"text-align: right;\">\n",
       "      <th></th>\n",
       "      <th>TimeStamp</th>\n",
       "      <th>Values</th>\n",
       "    </tr>\n",
       "  </thead>\n",
       "  <tbody>\n",
       "    <tr>\n",
       "      <th>1195</th>\n",
       "      <td>2018-06-18 02:55:00</td>\n",
       "      <td>13640</td>\n",
       "    </tr>\n",
       "    <tr>\n",
       "      <th>1196</th>\n",
       "      <td>2018-06-18 02:56:00</td>\n",
       "      <td>14781</td>\n",
       "    </tr>\n",
       "    <tr>\n",
       "      <th>1197</th>\n",
       "      <td>2018-06-18 02:57:00</td>\n",
       "      <td>14124</td>\n",
       "    </tr>\n",
       "    <tr>\n",
       "      <th>1198</th>\n",
       "      <td>2018-06-18 02:58:00</td>\n",
       "      <td>14129</td>\n",
       "    </tr>\n",
       "    <tr>\n",
       "      <th>1199</th>\n",
       "      <td>2018-06-18 02:59:00</td>\n",
       "      <td>13865</td>\n",
       "    </tr>\n",
       "  </tbody>\n",
       "</table>\n",
       "</div>"
      ],
      "text/plain": [
       "               TimeStamp  Values\n",
       "1195 2018-06-18 02:55:00   13640\n",
       "1196 2018-06-18 02:56:00   14781\n",
       "1197 2018-06-18 02:57:00   14124\n",
       "1198 2018-06-18 02:58:00   14129\n",
       "1199 2018-06-18 02:59:00   13865"
      ]
     },
     "execution_count": 13,
     "metadata": {},
     "output_type": "execute_result"
    }
   ],
   "source": [
    "anomaly.tail()"
   ]
  },
  {
   "cell_type": "code",
   "execution_count": 14,
   "metadata": {},
   "outputs": [
    {
     "name": "stdout",
     "output_type": "stream",
     "text": [
      "Successful Run\n"
     ]
    }
   ],
   "source": [
    "print (\"Successful Run\")"
   ]
  },
  {
   "cell_type": "code",
   "execution_count": null,
   "metadata": {},
   "outputs": [],
   "source": []
  }
 ],
 "metadata": {
  "kernelspec": {
   "display_name": "Python 3",
   "language": "python",
   "name": "python3"
  },
  "language_info": {
   "codemirror_mode": {
    "name": "ipython",
    "version": 3
   },
   "file_extension": ".py",
   "mimetype": "text/x-python",
   "name": "python",
   "nbconvert_exporter": "python",
   "pygments_lexer": "ipython3",
   "version": "3.6.4"
  }
 },
 "nbformat": 4,
 "nbformat_minor": 2
}
